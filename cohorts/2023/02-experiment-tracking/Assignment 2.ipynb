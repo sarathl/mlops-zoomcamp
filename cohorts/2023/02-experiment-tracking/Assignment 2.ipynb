{
 "cells": [
  {
   "cell_type": "code",
   "execution_count": 7,
   "id": "3b08271b",
   "metadata": {},
   "outputs": [],
   "source": [
    "import mlflow\n",
    "import pandas as pd\n",
    "import numpy as np\n",
    "import os"
   ]
  },
  {
   "cell_type": "markdown",
   "id": "4c713a10",
   "metadata": {},
   "source": [
    "## Q2"
   ]
  },
  {
   "cell_type": "code",
   "execution_count": 19,
   "id": "d9b741bc",
   "metadata": {},
   "outputs": [
    {
     "name": "stdout",
     "output_type": "stream",
     "text": [
      "Size of the DictVectorizer file is 150.05859375\n"
     ]
    }
   ],
   "source": [
    "print(f\"Size of the DictVectorizer file is {os.path.getsize(os.getcwd() + '/homework/output/dv.pkl')/1024}\")"
   ]
  },
  {
   "cell_type": "markdown",
   "id": "e76b8336",
   "metadata": {},
   "source": [
    "## Q3"
   ]
  },
  {
   "cell_type": "markdown",
   "id": "16b8fbf3",
   "metadata": {},
   "source": [
    "**max_depth = 10, given in the code**\n",
    "\n",
    "**train.py with mlflow tracking code is available at** \"\\homework\\train.py\""
   ]
  },
  {
   "cell_type": "markdown",
   "id": "c80ad496",
   "metadata": {},
   "source": [
    "## Q4"
   ]
  },
  {
   "cell_type": "code",
   "execution_count": 45,
   "id": "ede3bfe9",
   "metadata": {},
   "outputs": [],
   "source": [
    "import mlflow\n",
    "\n",
    "from mlflow.entities import ViewType\n",
    "from mlflow.tracking import MlflowClient\n",
    "from sklearn.ensemble import RandomForestRegressor\n",
    "from sklearn.metrics import mean_squared_error"
   ]
  },
  {
   "cell_type": "code",
   "execution_count": 68,
   "id": "36437758",
   "metadata": {},
   "outputs": [],
   "source": [
    "mlflow.set_tracking_uri(\"http://127.0.0.1:5000\")\n",
    "client = MlflowClient()\n",
    "\n",
    "HPO_EXPERIMENT_NAME = \"random-forest-hyperopt\"\n",
    "best_models_EXPERIMENT_NAME = \"random-forest-best-models\""
   ]
  },
  {
   "cell_type": "code",
   "execution_count": 71,
   "id": "b23caede",
   "metadata": {},
   "outputs": [],
   "source": [
    "# Retrieve the top_n model runs and log the models\n",
    "experiment = client.get_experiment_by_name(HPO_EXPERIMENT_NAME)"
   ]
  },
  {
   "cell_type": "code",
   "execution_count": 72,
   "id": "35f0e504",
   "metadata": {},
   "outputs": [
    {
     "name": "stdout",
     "output_type": "stream",
     "text": [
      "Best validation RMSE = 0    2.449827\n",
      "Name: metrics.rmse, dtype: float64\n"
     ]
    }
   ],
   "source": [
    "rmse_hyperopt = mlflow.search_runs(experiment_ids=experiment.experiment_id, max_results=1, order_by=[\"metrics.rmse ASC\"])['metrics.rmse']\n",
    "\n",
    "print(f\"Best validation RMSE = {rmse_hyperopt}\")"
   ]
  },
  {
   "cell_type": "markdown",
   "id": "4b560b0f",
   "metadata": {},
   "source": [
    "**hpo.py with mlflow tracking code is available at** \"\\homework\\hpo.py\""
   ]
  },
  {
   "cell_type": "markdown",
   "id": "753cd888",
   "metadata": {},
   "source": [
    "## Q5"
   ]
  },
  {
   "cell_type": "code",
   "execution_count": 69,
   "id": "cab55e82",
   "metadata": {},
   "outputs": [],
   "source": [
    "experiment = client.get_experiment_by_name(best_models_EXPERIMENT_NAME)"
   ]
  },
  {
   "cell_type": "code",
   "execution_count": 70,
   "id": "ea700a0a",
   "metadata": {},
   "outputs": [
    {
     "data": {
      "text/plain": [
       "'290381380598115594'"
      ]
     },
     "execution_count": 70,
     "metadata": {},
     "output_type": "execute_result"
    }
   ],
   "source": [
    "experiment.experiment_id"
   ]
  },
  {
   "cell_type": "code",
   "execution_count": 67,
   "id": "15e9f23a",
   "metadata": {
    "scrolled": true
   },
   "outputs": [
    {
     "name": "stdout",
     "output_type": "stream",
     "text": [
      "Test RMSE of the best model = 0    2.285469\n",
      "Name: metrics.test_rmse, dtype: float64\n"
     ]
    }
   ],
   "source": [
    "best_test_rmse = mlflow.search_runs(experiment_ids=experiment.experiment_id, max_results=1, order_by=[\"metrics.test_rmse ASC\"])['metrics.test_rmse']\n",
    "\n",
    "print(f\"Test RMSE of the best model = {best_test_rmse}\")"
   ]
  },
  {
   "cell_type": "markdown",
   "id": "97e84fde",
   "metadata": {},
   "source": [
    "I think there's a typo in the options provided. So, selecting the closest option 2.185"
   ]
  },
  {
   "cell_type": "markdown",
   "id": "2404c919",
   "metadata": {},
   "source": [
    "**register_model.py with mlflow tracking code is available at** \"\\homework\\register_model.py\""
   ]
  }
 ],
 "metadata": {
  "kernelspec": {
   "display_name": "Python 3 (ipykernel)",
   "language": "python",
   "name": "python3"
  },
  "language_info": {
   "codemirror_mode": {
    "name": "ipython",
    "version": 3
   },
   "file_extension": ".py",
   "mimetype": "text/x-python",
   "name": "python",
   "nbconvert_exporter": "python",
   "pygments_lexer": "ipython3",
   "version": "3.10.6"
  }
 },
 "nbformat": 4,
 "nbformat_minor": 5
}
